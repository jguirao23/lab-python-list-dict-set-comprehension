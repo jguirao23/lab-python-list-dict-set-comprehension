{
 "cells": [
  {
   "cell_type": "markdown",
   "id": "25d7736c-ba17-4aff-b6bb-66eba20fbf4e",
   "metadata": {},
   "source": [
    "# Lab | List, Dict and Set Comprehension"
   ]
  },
  {
   "cell_type": "markdown",
   "id": "7dd3cbde-675a-4b81-92c3-f728846dbe06",
   "metadata": {},
   "source": [
    "## Exercise: Managing Customer Orders Optimized with Comprehension"
   ]
  },
  {
   "cell_type": "markdown",
   "id": "5d500160-2fb7-4777-b5e4-09d45ebaf328",
   "metadata": {},
   "source": [
    "In the previous exercise, you developed a program to manage customer orders and inventory. Now, let's take it a step further and incorporate comprehension into your code.\n",
    "\n",
    "Follow the steps below to complete the exercise:\n",
    "\n",
    "1. Review your code from the previous exercise and identify areas where you can apply comprehension to simplify and streamline your code. \n",
    "\n",
    "    - *Hint: Apply it to initialize inventory, updating the inventory and printing the updated inventory.*\n",
    "    \n",
    "    - For example, in initializing the inventory, we could have:\n",
    "    \n",
    "        ```python\n",
    "        def initialize_inventory(products):\n",
    "            inventory = {product: int(input(f\"Enter the quantity of {product}s available: \")) for product in products}\n",
    "            return inventory\n",
    "\n",
    "        ```\n",
    "<br>\n",
    "    \n",
    "    \n",
    "2. Modify the function get_customer_orders so it prompts the user to enter the number of customer orders and gathers the product names using a loop and user input. Use comprehension.\n",
    "\n",
    "3. Add a new function to calculate the total price of the customer order. For each product in customer_orders, prompt the user to enter the price of that product. Use comprehension to calculate the total price. Note: assume that the user can only have 1 unit of each product.\n",
    "\n",
    "4. Modify the update_inventory function to remove the product from the inventory if its quantity becomes zero after fulfilling the customer orders. Use comprehension to filter out the products with a quantity of zero from the inventory.\n",
    "\n",
    "5. Print the total price of the customer order.\n",
    "\n",
    "Your code should produce output similar to the following:\n",
    "\n",
    "```python\n",
    "Enter the quantity of t-shirts available:  5\n",
    "Enter the quantity of mugs available:  4\n",
    "Enter the quantity of hats available:  3\n",
    "Enter the quantity of books available:  2\n",
    "Enter the quantity of keychains available:  1\n",
    "Enter the number of customer orders:  2\n",
    "Enter the name of a product that a customer wants to order:  hat\n",
    "Enter the name of a product that a customer wants to order:  keychain\n",
    "\n",
    "Order Statistics:\n",
    "Total Products Ordered: 2\n",
    "Percentage of Unique Products Ordered: 40.0\n",
    "\n",
    "Updated Inventory:\n",
    "t-shirt: 5\n",
    "mug: 4\n",
    "hat: 2\n",
    "book: 2\n",
    "Enter the price of keychain:  5\n",
    "Enter the price of hat:  10\n",
    "Total Price: 15.0\n",
    "\n",
    "```\n"
   ]
  },
  {
   "cell_type": "code",
   "execution_count": 31,
   "id": "ac8c7b8b",
   "metadata": {},
   "outputs": [],
   "source": [
    "products = [\"t-shirt\", \"mug\", \"hat\", \"book\", \"keychain\"] \n",
    "inventory = {}\n",
    "\n",
    "def initialize_inventory(products): \n",
    "    inventory = {product:int(input('Please enter the quantity of ' + product + 's available: ')) for product in products}\n",
    "    return inventory\n",
    "\n",
    "def get_customer_orders():\n",
    "    print(\"\\n\")\n",
    "    customer_orders = set()\n",
    "    number_customer_orders = int(input(\"Enter the number of customer orders: \"))\n",
    "    customer_orders = {input(\"Enter the name of a product that a customer wants to order: \") for number_customer_orders in range(number_customer_orders)}\n",
    "    return customer_orders\n",
    "\n",
    "def total_price_customer_order(customer_orders):\n",
    "    print(\"\\n\")\n",
    "    prices = {product:int(input(\"Enter the price of \" + product + \": \")) for product in customer_orders}\n",
    "    total_price = sum(prices.values())\n",
    "    return total_price\n",
    "\n",
    "def calculate_order_statistics(customer_orders, products):\n",
    "    print(\"\\n\")\n",
    "    total_products_ordered = len(customer_orders)\n",
    "    percentage_ordered = (total_products_ordered) / len(inventory)\n",
    "    percentage_ordered = \"{:.2%}\".format(percentage_ordered)\n",
    "    order_statistics = (total_products_ordered, percentage_ordered)\n",
    "    print(\"Order statistics:\")\n",
    "    print(f\"Total products ordered: {total_products_ordered}\") \n",
    "    print(f\"Percentage of unique products ordered: {percentage_ordered}\") \n",
    "    \n",
    "def update_inventory(customer_orders, inventory):\n",
    "    inventory = {key:(value-1 if key in list(customer_orders) else value) for key,value in inventory.items()}\n",
    "    updated_inventory = {key:value for key,value in inventory.items() if value > 0}\n",
    "    \n",
    "    return updated_inventory"
   ]
  },
  {
   "cell_type": "code",
   "execution_count": 32,
   "id": "49a3e51a",
   "metadata": {},
   "outputs": [
    {
     "name": "stdout",
     "output_type": "stream",
     "text": [
      "Please enter the quantity of t-shirts available: 5\n",
      "Please enter the quantity of mugs available: 4\n",
      "Please enter the quantity of hats available: 3\n",
      "Please enter the quantity of books available: 2\n",
      "Please enter the quantity of keychains available: 1\n",
      "\n",
      "\n",
      "Enter the number of customer orders: 2\n",
      "Enter the name of a product that a customer wants to order: hat\n",
      "Enter the name of a product that a customer wants to order: keychain\n",
      "\n",
      "\n",
      "Order statistics:\n",
      "Total products ordered: 2\n",
      "Percentage of unique products ordered: 40.00%\n",
      "Updated inventory:\n",
      "t-shirt: 5\n",
      "mug: 4\n",
      "hat: 2\n",
      "book: 2\n",
      "\n",
      "\n",
      "Enter the price of keychain: 5\n",
      "Enter the price of hat: 10\n",
      "Total price is 15\n"
     ]
    }
   ],
   "source": [
    "inventory = initialize_inventory(products) \n",
    "\n",
    "customer_orders = get_customer_orders()\n",
    "\n",
    "calculate_order_statistics(customer_orders, products)\n",
    "\n",
    "inventory = update_inventory(customer_orders, inventory)\n",
    "\n",
    "print(\"Updated inventory:\")\n",
    "for key,value in inventory.items():\n",
    "    print(f\"{key}: {value}\")\n",
    "\n",
    "print(f\"Total price is {total_price_customer_order(customer_orders)}\")\n"
   ]
  }
 ],
 "metadata": {
  "kernelspec": {
   "display_name": "Python 3 (ipykernel)",
   "language": "python",
   "name": "python3"
  },
  "language_info": {
   "codemirror_mode": {
    "name": "ipython",
    "version": 3
   },
   "file_extension": ".py",
   "mimetype": "text/x-python",
   "name": "python",
   "nbconvert_exporter": "python",
   "pygments_lexer": "ipython3",
   "version": "3.10.9"
  }
 },
 "nbformat": 4,
 "nbformat_minor": 5
}
